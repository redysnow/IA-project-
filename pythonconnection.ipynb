{
 "cells": [
  {
   "cell_type": "code",
   "execution_count": 1,
   "id": "c74dff97-ddc8-4c4a-9d10-db18f9d5be4c",
   "metadata": {
    "scrolled": true
   },
   "outputs": [
    {
     "name": "stdout",
     "output_type": "stream",
     "text": [
      "❌ Erreur de connexion : {'S': 'FATAL', 'V': 'FATAL', 'C': '28000', 'M': \"aucune entrée dans pg_hba.conf pour l'hôte « 10.106.20.39 », utilisateur « u_labop1d1_01 »,\\nbase de données « d_labop1d1_00  », SSL inactif\", 'F': 'auth.c', 'L': '513', 'R': 'ClientAuthentication'}\n"
     ]
    }
   ],
   "source": [
    "import pg8000\n",
    "\n",
    "try:\n",
    "    conn = pg8000.connect(\n",
    "        host=\"dc2vms170.inserm.fr\",\n",
    "        port=1540,\n",
    "        database=\"d_labop1d1_00 \",\n",
    "        user=\"u_labop1d1_01\",\n",
    "        password=\"lecture2103\"\n",
    "    )\n",
    "    print(\"✅ Connexion réussie à PostgreSQL avec pg8000 !\")\n",
    "\n",
    "    cursor = conn.cursor()\n",
    "    cursor.execute(\"SELECT version();\")\n",
    "    print(\"PostgreSQL version:\", cursor.fetchone())\n",
    "    cursor.close()\n",
    "    conn.close()\n",
    "\n",
    "except Exception as e:\n",
    "    print(\"❌ Erreur de connexion :\", e)\n"
   ]
  },
  {
   "cell_type": "code",
   "execution_count": null,
   "id": "ad57af2f-2b31-4613-813b-996dc14a0284",
   "metadata": {},
   "outputs": [],
   "source": []
  }
 ],
 "metadata": {
  "kernelspec": {
   "display_name": "Python [conda env:base] *",
   "language": "python",
   "name": "conda-base-py"
  },
  "language_info": {
   "codemirror_mode": {
    "name": "ipython",
    "version": 3
   },
   "file_extension": ".py",
   "mimetype": "text/x-python",
   "name": "python",
   "nbconvert_exporter": "python",
   "pygments_lexer": "ipython3",
   "version": "3.12.7"
  }
 },
 "nbformat": 4,
 "nbformat_minor": 5
}
